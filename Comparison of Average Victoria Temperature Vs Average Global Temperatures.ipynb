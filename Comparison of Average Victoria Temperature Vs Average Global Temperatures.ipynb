{
 "cells": [
  {
   "cell_type": "markdown",
   "metadata": {},
   "source": [
    "\n",
    "\n",
    "## Summary\n",
    "\n",
    "In this project, we will be analyzing local and Global temperatures.We will then compare the different temperature trends between Victoria and the overall global temperature. \n",
    "\n",
    "We show the trend by making a comparison graph which is plotted from year 1828 to year 2015. Rather than the yearly average, we use a 7 year moving average to get a better picture of the analysis. Some points to remember.\n",
    "\n",
    "* The moving average was calculated through **Excel Sheet** before importing to python.\n",
    "* The rest of the analysis was done in **Python Jupyter Notebook**.\n",
    "\n",
    "There are some key considerations taken into account on deciding how to visulize the trends\n",
    "* It was decided that both datasets should have equal rows and should be plotted with the year as a the common axis with proper coloring to show the respective plots.\n",
    "* Proper subsetting of the data needs to be done.\n",
    "    - global_data should be subsetted from 1828 to 2015\n",
    "    - city_data should be subsetted for **Victoria**\n",
    "    \n",
    "These are the basic considerations done to get the visualization. I am sure we can add more constraints to get a better pixture of the same.\n",
    "\n"
   ]
  },
  {
   "attachments": {},
   "cell_type": "markdown",
   "metadata": {},
   "source": [
    "## Moving Average\n",
    "* The 7 year moving average for Victoria Dataset. Once a cell has been assigned a moving average, the cells are dragged to the whole dataset.\n",
    "\n",
    "\n",
    "\n",
    "<img src=\"Victoria_movingavg.jpg\" style=\"width:300px;height:200px\" />\n",
    "\n",
    "\n",
    "* Similarly the 7 year moving average for global data. Once a cell has been assigned a moving average, the cells are dragged to the whole dataset.\n",
    "\n",
    "\n",
    "<img src=\"Global_movingavg.jpg\" style=\"width:300px;height:200px\" />\n",
    "\n"
   ]
  },
  {
   "cell_type": "markdown",
   "metadata": {},
   "source": [
    "\n",
    "\n",
    "## Getting data from SQL\n",
    "\n",
    "To get data from the city_data we put in the following **SQL COMMAND**\n",
    "\n",
    "* *SELECT* *\n",
    "* *FROM city_data* \n",
    "* *WHERE city = 'Victoria'*\n",
    "* *AND country = 'Canada'*;\n",
    "\n",
    "To get data from the global_data we put in the following **SQL COMMAND**\n",
    "\n",
    "* *SELECT* *\n",
    "* *FROM global_data* ;\n",
    "\n",
    "We will then download the csv file and put it for further analysis.\n",
    "\n"
   ]
  },
  {
   "cell_type": "markdown",
   "metadata": {},
   "source": [
    "\n",
    "\n",
    "## Importing libraries for Analysis\n",
    "\n",
    "We are importing the required libraries for our analysis.\n"
   ]
  },
  {
   "cell_type": "code",
   "execution_count": 1,
   "metadata": {},
   "outputs": [],
   "source": [
    "import pandas as pd\n",
    "import numpy as np\n",
    "import matplotlib.pyplot as plt\n",
    "import seaborn as sns"
   ]
  },
  {
   "cell_type": "markdown",
   "metadata": {},
   "source": [
    "\n",
    "\n",
    "Lets import the city_data.csv data and explore the 1st few rows.\n"
   ]
  },
  {
   "cell_type": "code",
   "execution_count": 2,
   "metadata": {},
   "outputs": [
    {
     "name": "stdout",
     "output_type": "stream",
     "text": [
      "   year      city country  avg_temp  moving_average\n",
      "0  1828  Victoria  Canada      6.83             NaN\n",
      "1  1829  Victoria  Canada      6.58             NaN\n",
      "2  1830  Victoria  Canada       NaN             NaN\n",
      "3  1831  Victoria  Canada       NaN             NaN\n",
      "4  1832  Victoria  Canada      3.25             NaN\n"
     ]
    }
   ],
   "source": [
    "city_data = pd.read_csv('city_data_victoria.csv')\n",
    "print(city_data.head())"
   ]
  },
  {
   "cell_type": "markdown",
   "metadata": {},
   "source": [
    "\n",
    "\n",
    "Lets import the global_data.csv data and explore the 1st few rows.\n"
   ]
  },
  {
   "cell_type": "code",
   "execution_count": 3,
   "metadata": {},
   "outputs": [
    {
     "name": "stdout",
     "output_type": "stream",
     "text": [
      "   year  avg_temp  moving_average\n",
      "0  1750      8.72             NaN\n",
      "1  1751      7.98             NaN\n",
      "2  1752      5.78             NaN\n",
      "3  1753      8.39             NaN\n",
      "4  1754      8.47             NaN\n"
     ]
    }
   ],
   "source": [
    "# Lets look at the global dataframe\n",
    "global_data = pd.read_csv('global_data.csv')\n",
    "print(global_data.head())"
   ]
  },
  {
   "cell_type": "markdown",
   "metadata": {},
   "source": [
    "\n",
    "\n",
    "\n",
    "## Cleaning the Data\n",
    "\n",
    "Here we explore our dataset and get more information for the comparison. This comprises of,\n",
    "* Removing Na's\n",
    "* Removing unnecessary Columns\n",
    "* Reindexing\n",
    "* Subsetting \n",
    "\n",
    "Below we take the city_data dataset and make a subset called Victoria_temp containing the data for the city called Victoria. We will further remove the unnecessary columns and reindex the new dataset.\n",
    "\n"
   ]
  },
  {
   "cell_type": "code",
   "execution_count": 4,
   "metadata": {},
   "outputs": [
    {
     "name": "stdout",
     "output_type": "stream",
     "text": [
      "     year  moving_average\n",
      "0    1828             NaN\n",
      "1    1829             NaN\n",
      "2    1830             NaN\n",
      "3    1831             NaN\n",
      "4    1832             NaN\n",
      "..    ...             ...\n",
      "181  2009            8.13\n",
      "182  2010            8.11\n",
      "183  2011            7.86\n",
      "184  2012            7.79\n",
      "185  2013            8.01\n",
      "\n",
      "[186 rows x 2 columns]\n"
     ]
    }
   ],
   "source": [
    "# Subsetting for My closest City which is Victoria. Also Dropping unnecessary columns and also resetting the index.\n",
    "Victoria_temp = city_data.reset_index().drop(['country', 'city','index','avg_temp'], axis = 1)\n",
    "print(Victoria_temp)"
   ]
  },
  {
   "cell_type": "markdown",
   "metadata": {},
   "source": [
    "\n",
    "\n",
    "It is also very important to make sure all the columns have proper datatypes for ploting.\n"
   ]
  },
  {
   "cell_type": "code",
   "execution_count": 5,
   "metadata": {},
   "outputs": [
    {
     "name": "stdout",
     "output_type": "stream",
     "text": [
      "<class 'pandas.core.frame.DataFrame'>\n",
      "RangeIndex: 186 entries, 0 to 185\n",
      "Data columns (total 2 columns):\n",
      " #   Column          Non-Null Count  Dtype  \n",
      "---  ------          --------------  -----  \n",
      " 0   year            186 non-null    int64  \n",
      " 1   moving_average  180 non-null    float64\n",
      "dtypes: float64(1), int64(1)\n",
      "memory usage: 3.0 KB\n",
      "None\n"
     ]
    }
   ],
   "source": [
    "\n",
    "#Changing DataType for Moving average from 'object' to 'float'\n",
    "Victoria_temp['moving_average'] = Victoria_temp['moving_average'].astype('float')\n",
    "print(Victoria_temp.info())"
   ]
  },
  {
   "cell_type": "code",
   "execution_count": 6,
   "metadata": {},
   "outputs": [
    {
     "name": "stdout",
     "output_type": "stream",
     "text": [
      "     year  moving_average\n",
      "0    1828             NaN\n",
      "1    1829             NaN\n",
      "2    1830             NaN\n",
      "3    1831             NaN\n",
      "4    1832             NaN\n",
      "..    ...             ...\n",
      "181  2009            8.13\n",
      "182  2010            8.11\n",
      "183  2011            7.86\n",
      "184  2012            7.79\n",
      "185  2013            8.01\n",
      "\n",
      "[186 rows x 2 columns]\n"
     ]
    }
   ],
   "source": [
    "print(Victoria_temp)"
   ]
  },
  {
   "cell_type": "markdown",
   "metadata": {},
   "source": [
    "           "
   ]
  },
  {
   "cell_type": "markdown",
   "metadata": {},
   "source": [
    "\n",
    "\n",
    "Now in the global_data dataset, we can subset the same number of rows as the Victoria_temp dataset so that we can use the *Year* column to be a common x axis.\n"
   ]
  },
  {
   "cell_type": "code",
   "execution_count": 7,
   "metadata": {},
   "outputs": [
    {
     "name": "stdout",
     "output_type": "stream",
     "text": [
      "     year  avg_temp  moving_average\n",
      "78   1828      8.17             NaN\n",
      "79   1829      7.94             NaN\n",
      "80   1830      8.52             NaN\n",
      "81   1831      7.64             NaN\n",
      "82   1832      7.45             NaN\n",
      "..    ...       ...             ...\n",
      "261  2011      9.52            9.59\n",
      "262  2012      9.51            9.56\n",
      "263  2013      9.61            9.57\n",
      "264  2014      9.57            9.55\n",
      "265  2015      9.83            9.61\n",
      "\n",
      "[188 rows x 3 columns]\n"
     ]
    }
   ],
   "source": [
    "# Indexing to same number of rows\n",
    "global_data = global_data[global_data['year'] >= 1828]\n",
    "print(global_data)"
   ]
  },
  {
   "cell_type": "markdown",
   "metadata": {},
   "source": [
    "\n",
    "\n",
    "\n",
    "\n",
    "\n",
    "## Exploratory Data Analysis - Plotting\n",
    "\n",
    "Now we can plot the data and compare the Average Victoria temperatures vs Average Global temperatures"
   ]
  },
  {
   "cell_type": "code",
   "execution_count": 8,
   "metadata": {},
   "outputs": [
    {
     "data": {
      "image/png": "[encoded data removed]",
      "text/plain": [
       "<Figure size 432x288 with 2 Axes>"
      ]
     },
     "metadata": {
      "needs_background": "light"
     },
     "output_type": "display_data"
    }
   ],
   "source": [
    "fig, ax = plt.subplots()\n",
    "ax.plot(global_data.year,global_data.moving_average, color = 'b')\n",
    "ax.set_ylabel('Avg Global Temp')\n",
    "ax.set_xlabel('Year from 1828 to 2015')\n",
    "ax.tick_params( colors = 'blue')\n",
    "ax2 = ax.twinx()\n",
    "ax2.plot(Victoria_temp.year,Victoria_temp.moving_average, color = 'r')\n",
    "ax2.tick_params(colors = 'red')\n",
    "ax2.set_ylabel('Avg Victoria Temp')\n",
    "ax.set_title('Comparison of Victoria and global Temp from 1828 to 2015')\n",
    "plt.show()"
   ]
  },
  {
   "cell_type": "markdown",
   "metadata": {},
   "source": [
    "## Observations\n",
    "\n",
    "* On an average, Victoria shows higher Average temperatures than Global average temperatures throughout the period of analysis but only by 0.5 degrees. \n",
    "\n",
    "* It is very interesting to see that Average temperatures from Victoria follow a similar trend of the Average temperatures from Global scale for the period of analysis. There are a few outliers which may have been formed because of error in reporting or other causes which require a more in depth analysis.\n",
    "\n",
    "* It seems that the overall trend suggests the world is getting hotter in the years to come. This trend began in the early *1940's till date*.\n",
    "\n",
    "* The temperatures seem to have risen at a much higher rate from *1975 till date* and seems to be rising every year.\n",
    "\n",
    "## Conclusions\n",
    "\n",
    "From this small analysis we are able to get a lot of analysis on the average temperature rise over the years but we need to understand that further analysis is needed to get more information from the dataset and add to the above observations.\n",
    "\n"
   ]
  }
 ],
 "metadata": {
  "kernelspec": {
   "display_name": "Python 3",
   "language": "python",
   "name": "python3"
  },
  "language_info": {
   "codemirror_mode": {
    "name": "ipython",
    "version": 3
   },
   "file_extension": ".py",
   "mimetype": "text/x-python",
   "name": "python",
   "nbconvert_exporter": "python",
   "pygments_lexer": "ipython3",
   "version": "3.7.6"
  }
 },
 "nbformat": 4,
 "nbformat_minor": 4
}
